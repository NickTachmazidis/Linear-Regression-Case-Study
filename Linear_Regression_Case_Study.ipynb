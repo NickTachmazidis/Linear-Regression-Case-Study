{
 "cells": [
  {
   "cell_type": "markdown",
   "metadata": {},
   "source": [
    "# Linear Regression\n",
    "\n",
    "This is a case study, showcasing how to implement univariate linear regression (with one variable) to predict profits for a restaurant franchise."
   ]
  },
  {
   "cell_type": "markdown",
   "metadata": {},
   "source": [
    "## Importing the libraries"
   ]
  },
  {
   "cell_type": "code",
   "execution_count": 468,
   "metadata": {},
   "outputs": [],
   "source": [
    "import numpy as np\n",
    "import matplotlib.pyplot as plt\n",
    "import math\n",
    "import pandas as pd\n",
    "import seaborn as sns\n",
    "import locale\n",
    "\n",
    "sns.set_style('darkgrid',{\n",
    "            'xtick.labelsize': .5,\n",
    "            'ytick.labelsize': .5,\n",
    "            'font.family':'serif',\n",
    "            'axes.grid': True,\n",
    "            })\n",
    "locale.setlocale(locale.LC_ALL, 'en_us')\n",
    "\n",
    "%matplotlib inline"
   ]
  },
  {
   "cell_type": "markdown",
   "metadata": {},
   "source": [
    "## Problem Statement\n",
    "\n",
    "Suppose a CEO of a restaurant franchise is considering different cities for opening a new outlet. In order to expand his business, he would like cities that give higher profits. The chain already has data for profits and population from its restaurants in various cities.\n",
    "\n",
    "The goal is to build a Linear Regression model that predicts the highest profit according to the population.  "
   ]
  },
  {
   "cell_type": "markdown",
   "metadata": {},
   "source": [
    "## Load the Data\n",
    "\n",
    "Firstly, we want to load and inspect the data"
   ]
  },
  {
   "cell_type": "code",
   "execution_count": 469,
   "metadata": {},
   "outputs": [
    {
     "name": "stdout",
     "output_type": "stream",
     "text": [
      "The shape of x_train is: (97,)\n",
      "The shape of y_train is:  (97,)\n",
      "First five elements of x_train are: 6.1101, 5.5277, 8.5186, 7.0032, 5.8598\n",
      "First five elements of y_train are: 17.592, 9.1302, 13.662, 11.854000000000001, 6.8233\n"
     ]
    }
   ],
   "source": [
    "def load_data_df():\n",
    "    df = pd.read_csv(\"data.txt\", names=['Population of City in 10,000s','Profit in $10,000'], sep=',')\n",
    "    return df\n",
    "\n",
    "# Spliting the data and convert them to numpy arrays\n",
    "x_train, y_train = df['Population of City in 10,000s'].to_numpy(), df['Profit in $10,000'].to_numpy()\n",
    "\n",
    "print ('The shape of x_train is:', x_train.shape)           # Checking the dimensions of the x dataset\n",
    "print ('The shape of y_train is: ', y_train.shape)          # Checking the dimensions of the y dataset\n",
    "\n",
    "# Checking the first elements of the x dataset\n",
    "print(f\"First five elements of x_train are: {', '.join([str(i) for i in x_train[:5]])}\") \n",
    "# Checking the first elements of the y dataset\n",
    "print(f\"First five elements of y_train are: {', '.join([str(i) for i in y_train[:5]])}\")"
   ]
  },
  {
   "cell_type": "markdown",
   "metadata": {},
   "source": [
    "## Variables\n",
    "\n",
    "#### x_train\n",
    "\n",
    "`x_train` is a 1D array with datapoints that represent the population of a city, where each datapoint represent the city population times 10,000.\n",
    "`m` is the number of training examples and is equal to the length of `x_train`, which is 97.\n",
    "\n",
    "#### y_train\n",
    "\n",
    "`y_train` is a 1D array with datapoints that represent the restaurant's average monthly profits in each city, in units of \\$10,000. A negative value for profit indicates a loss."
   ]
  },
  {
   "cell_type": "markdown",
   "metadata": {},
   "source": [
    "## Visualizing the data\n",
    "\n",
    "It is often useful to understand the data by visualizing it. The scatter plot is very useful for understanding the data, since the dataset has only two properties (profit and population)."
   ]
  },
  {
   "cell_type": "code",
   "execution_count": 470,
   "metadata": {},
   "outputs": [
    {
     "data": {
      "image/png": "[encoded data removed]",
      "text/plain": [
       "<Figure size 432x288 with 1 Axes>"
      ]
     },
     "metadata": {
      "needs_background": "light"
     },
     "output_type": "display_data"
    }
   ],
   "source": [
    "df = load_data_df()\n",
    "ax = df.plot(kind    = 'scatter',                                \n",
    "             x       = 'Population of City in 10,000s',\n",
    "             y       = 'Profit in $10,000',\n",
    "             color   = 'red',\n",
    "             marker  = 'x',\n",
    "             title   = 'Profits vs. Population per city')\n",
    "\n",
    "x_train, y_train = df['Population of City in 10,000s'], df['Profit in $10,000']"
   ]
  },
  {
   "cell_type": "markdown",
   "metadata": {},
   "source": [
    "## The Linear Regression Model\n",
    "\n",
    "#### Model prediction function\n",
    "\n",
    "The model prediction ($f$ or $\\hat{y}$) for univariate linear regression for an example $x^{(i)}$ with parameters $w$ (slope) and $b$ (intercept), is representented as:\n",
    "\n",
    "$$ f_{w,b}(x^{(i)}) = wx^{(i)} + b$$\n",
    "\n",
    "$f$ is a function that takes $x$ (city population) as input and depending on the values of $w$ and $b$, <br>\n",
    "will output some value of a prediction $\\hat{y}$ (the restaurant's monthly profit for that city)\n",
    "\n",
    "\n",
    "#### Cost function\n",
    "The cost function for univariate linear regression $J(w,b)$ which is known as the Least Squares cost function, is defined as\n",
    "\n",
    "$$J(w,b) = \\frac{1}{2m} \\sum\\limits_{i = 0}^{m-1} (f_{w,b}(x^{(i)}) - y^{(i)})^2$$\n",
    "\n",
    "$m$ is the number of training examples in the dataset\n",
    "\n",
    "#### Gradient Descent\n",
    "The pseudocode for the gradient descent algorithm is:\n",
    "\n",
    "$$\\begin{align*}& \\text{repeat until convergence:} \\; \\lbrace \\newline \\; & \\phantom {0000} b := b -  \\alpha \\frac{\\partial J(w,b)}{\\partial b} \\newline       \\; & \\phantom {0000} w := w -  \\alpha \\frac{\\partial J(w,b)}{\\partial w}  \\; & \n",
    "\\newline & \\rbrace\\end{align*}$$\n",
    "\n",
    "where, parameters $w, b$ are both updated simultaneously and where  \n",
    "$$\n",
    "\\frac{\\partial J(w,b)}{\\partial b}  = \\frac{1}{m} \\sum\\limits_{i = 0}^{m-1} (f_{w,b}(x^{(i)}) - y^{(i)}) \n",
    "$$\n",
    "$$\n",
    "\\frac{\\partial J(w,b)}{\\partial w}  = \\frac{1}{m} \\sum\\limits_{i = 0}^{m-1} (f_{w,b}(x^{(i)}) -y^{(i)})x^{(i)} \n",
    "$$\n",
    "\n",
    "#### Goal\n",
    "The goal of Linear Regression is to minimize the Cost function using Gradient Descent. By implementing the Gradient Descent algorithm the values of the parameters $(w,b)$ gradually get a smaller.<br>\n",
    "Also by using batch gradient descent, the calculations will be done to all the examples in one iteration."
   ]
  },
  {
   "cell_type": "code",
   "execution_count": 471,
   "metadata": {},
   "outputs": [],
   "source": [
    "def compute_cost(x, y, w, b): \n",
    "    \"\"\"\n",
    "    Computes the cost function for linear regression.\n",
    "    \n",
    "    Args:\n",
    "        x (ndarray): Shape (m,) Input to the model (Population of cities) \n",
    "        y (ndarray): Shape (m,) Label (Actual profits for the cities)\n",
    "        w, b (scalar): Parameters of the model\n",
    "    \n",
    "    Returns\n",
    "        total_cost (float): The cost of using w,b as the parameters for linear regression\n",
    "               to fit the data points in x and y\n",
    "    \"\"\"\n",
    "    \n",
    "    m = x.shape[0]                          # number of training examples \n",
    "    f = np.dot(w, x) + b                    # calculating the y_hat (model prediction)\n",
    "    total_cost = 1/(2*m)*sum((f - y)**2)    # calculating the total cost\n",
    "\n",
    "    return total_cost"
   ]
  },
  {
   "cell_type": "code",
   "execution_count": 472,
   "metadata": {},
   "outputs": [],
   "source": [
    "def compute_gradient(x, y, w, b): \n",
    "    \"\"\"\n",
    "    Computes the gradient for linear regression \n",
    "    Args:\n",
    "      x (ndarray): Shape (m,) Input to the model (Population of cities) \n",
    "      y (ndarray): Shape (m,) Label (Actual profits for the cities)\n",
    "      w, b (scalar): Parameters of the model  \n",
    "    Returns\n",
    "      dj_dw (scalar): The gradient of the cost w.r.t. the parameters w\n",
    "      dj_db (scalar): The gradient of the cost w.r.t. the parameter b     \n",
    "     \"\"\"\n",
    "    \n",
    "    m = x.shape[0]                    # Number of training examples\n",
    "    f = np.dot(w, x) + b              # calculating the y_hat (model prediction)\n",
    "    dj_dw = (f - y) * x               # calculating the gradient of the cost function (J) with respect to w\n",
    "    dj_db = (f - y)                   # calculating the gradient of the cost function (J) with respect to b\n",
    "    dj_dw = 1/m * sum(dj_dw)          # calculating the total dj/dw\n",
    "    dj_db = 1/m * sum(dj_db)          # calculating the total dj/db\n",
    "    \n",
    "    return dj_dw, dj_db"
   ]
  },
  {
   "cell_type": "code",
   "execution_count": 473,
   "metadata": {},
   "outputs": [],
   "source": [
    "def gradient_descent(x, y, w_in, b_in, cost_function, gradient_function, alpha, num_iters): \n",
    "    \"\"\"\n",
    "    Performs batch gradient descent\n",
    "    \n",
    "    Args:\n",
    "      x :    (ndarray): Shape (m,)\n",
    "      y :    (ndarray): Shape (m,)\n",
    "      w_in, b_in : (scalar) Initial values of parameters of the model\n",
    "      cost_function: function to compute cost\n",
    "      gradient_function: function to compute the gradient\n",
    "      alpha : (float) Learning rate\n",
    "      num_iters : (int) number of iterations to run gradient descent\n",
    "    Returns\n",
    "      w : (ndarray): Shape (1,) Updated values of parameters of the model after\n",
    "          running gradient descent\n",
    "      b : (scalar)                Updated value of parameter of the model after\n",
    "          running gradient descent\n",
    "    \"\"\"\n",
    "    \n",
    "    m = len(x)     # number of training examples\n",
    "    J_history = [] # An array to store cost J at each iteration for graphing purposes\n",
    "    w = w_in       # Initializing the w parameter\n",
    "    b = b_in       # Initializing the b parameter\n",
    "    \n",
    "    for i in range(num_iters):\n",
    "        dj_dw, dj_db = gradient_function(x, y, w, b)                            # Calculate the gradient and update the parameters\n",
    "        w = w - alpha * dj_dw                                                   # Update parameters w               \n",
    "        b = b - alpha * dj_db                                                   # Update parameters b\n",
    "\n",
    "        if i < 100000:                                                          # prevent resource exhaustion \n",
    "            cost =  cost_function(x, y, w, b)                                   # calculate the cost\n",
    "            J_history.append(cost)                                              # Save cost J at each iteration\n",
    "            \n",
    "        if i % math.ceil(num_iters/10) == 0:\n",
    "            print(f\"Iteration {i:4}: Cost {float(J_history[-1]):8.2f}\")         # Print cost at intervals 10 times or as many iterations if < 10\n",
    "        \n",
    "    return w, b"
   ]
  },
  {
   "cell_type": "code",
   "execution_count": 474,
   "metadata": {},
   "outputs": [
    {
     "name": "stdout",
     "output_type": "stream",
     "text": [
      "Iteration    0: Cost     6.74\n",
      "Iteration  150: Cost     5.31\n",
      "Iteration  300: Cost     4.96\n",
      "Iteration  450: Cost     4.76\n",
      "Iteration  600: Cost     4.64\n",
      "Iteration  750: Cost     4.57\n",
      "Iteration  900: Cost     4.53\n",
      "Iteration 1050: Cost     4.51\n",
      "Iteration 1200: Cost     4.50\n",
      "Iteration 1350: Cost     4.49\n",
      "w:1.17,b:-3.63\n"
     ]
    }
   ],
   "source": [
    "initial_w = 0.      # Initializing the w parameter\n",
    "initial_b = 0.      # Initializing the b parameter\n",
    "iterations = 1500   # Setting the number of iterations for gradient descent\n",
    "alpha = 0.01        # Setting the learning rate for gradient descent\n",
    "\n",
    "w,b = gradient_descent(x_train,\n",
    "                       y_train,\n",
    "                       initial_w,\n",
    "                       initial_b, \n",
    "                       compute_cost,\n",
    "                       compute_gradient,\n",
    "                       alpha,\n",
    "                       iterations)\n",
    "\n",
    "print(f\"w:{round(w,2)},b:{round(b, 2)}\")"
   ]
  },
  {
   "cell_type": "markdown",
   "metadata": {},
   "source": [
    "## Plotting the predicted Line"
   ]
  },
  {
   "cell_type": "code",
   "execution_count": 483,
   "metadata": {},
   "outputs": [
    {
     "data": {
      "image/png": "[encoded data removed]",
      "text/plain": [
       "<Figure size 432x288 with 1 Axes>"
      ]
     },
     "metadata": {
      "needs_background": "light"
     },
     "output_type": "display_data"
    }
   ],
   "source": [
    "df['predicted'] = pd.Series([w * x_train[i] + b for i in range(x_train.shape[0])]) # Add the predicted line to the DataFrame\n",
    "\n",
    "ax = df.plot(kind    = 'scatter',                                # Scatter plot\n",
    "             x       = 'Population of City in 10,000s',          # Specify the x-axis\n",
    "             y       = 'Profit in $10,000',                      # Specify the x-axis\n",
    "             color   = 'red',                                    # Color them red\n",
    "             marker  = 'x',                                      # Make them the shape of 'x'\n",
    "             title   = 'Profits vs. Population per city')        # Add title\n",
    "\n",
    "df.plot(ax=ax,x='Population of City in 10,000s',y='predicted', lw='.1') # Plot the LR line\n",
    "plt.show()                                                              # Show the plot"
   ]
  },
  {
   "cell_type": "markdown",
   "metadata": {},
   "source": [
    "## Predicting the new values\n",
    "\n",
    "The values of $w,b$ can also be used to make predictions on profits."
   ]
  },
  {
   "cell_type": "code",
   "execution_count": 484,
   "metadata": {},
   "outputs": [],
   "source": [
    "def predict(input,w,b):\n",
    "    \"\"\"\n",
    "    Takes an input, that represent the population times 10.000\n",
    "    and returns the profit\n",
    "    Args:\n",
    "        input: (float) the number of population times 10.000\n",
    "        w: (float) parameters w of the model\n",
    "        b: (float) parameters b of the model\n",
    "    Returns:\n",
    "    None\n",
    "    \"\"\"\n",
    "    population = locale.format_string('%.0f', input * 10000, True)\n",
    "    prediction = (w * input + b) * 10000\n",
    "    print(f\"For population = {population}, we predict a profit of ${locale.format_string('%.2f', prediction, True)}\")"
   ]
  },
  {
   "cell_type": "code",
   "execution_count": 485,
   "metadata": {},
   "outputs": [
    {
     "name": "stdout",
     "output_type": "stream",
     "text": [
      "For population = 35,000, we predict a profit of $4,519.77\n",
      "For population = 37,500, we predict a profit of $7,435.67\n",
      "For population = 70,000, we predict a profit of $45,342.45\n"
     ]
    }
   ],
   "source": [
    "predict(3.5,w,b)  # Prediction of the profit for 35,500 people\n",
    "predict(3.75,w,b) # Prediction of the profit for 37,500 people\n",
    "predict(7.,w,b)   # Prediction of the profit for 70,000 people"
   ]
  },
  {
   "cell_type": "markdown",
   "metadata": {},
   "source": [
    "## Sci-kit learn Implementation\n",
    "\n",
    "In this section we'll solve the same problem using the sci-kit learn library"
   ]
  },
  {
   "cell_type": "code",
   "execution_count": 486,
   "metadata": {},
   "outputs": [
    {
     "data": {
      "text/plain": [
       "0.7020315537841397"
      ]
     },
     "execution_count": 486,
     "metadata": {},
     "output_type": "execute_result"
    }
   ],
   "source": [
    "from sklearn.linear_model import LinearRegression\n",
    "\n",
    "first_line = df['predicted'].copy()     # Copies the previous LR line\n",
    "df         = load_data_df()             # Loads the data\n",
    "\n",
    "# Split data and convert them to numpy arrays\n",
    "x_train, y_train = df['Population of City in 10,000s'].to_numpy(), df['Profit in $10,000'].to_numpy()\n",
    "\n",
    "reg = LinearRegression()                                            # Initiate the LinearRegression model\n",
    "reg.fit(x_train.reshape(-1, 1),y_train)                             # Fitting the line on the data\n",
    "reg.score(x_train.reshape(-1, 1), y_train)                          # Calculating the accuracy"
   ]
  },
  {
   "cell_type": "markdown",
   "metadata": {},
   "source": [
    "The accuracy of the model is 70%"
   ]
  },
  {
   "cell_type": "markdown",
   "metadata": {},
   "source": [
    "## Prediction\n",
    "We can use the `predict` fuction to predict results of the profit"
   ]
  },
  {
   "cell_type": "code",
   "execution_count": 487,
   "metadata": {},
   "outputs": [
    {
     "name": "stdout",
     "output_type": "stream",
     "text": [
      "For population = 35,000, we predict a profit of $2,798.37\n",
      "For population = 37,500, we predict a profit of $5,780.95\n",
      "For population = 70,000, we predict a profit of $44,554.55\n"
     ]
    }
   ],
   "source": [
    "w_2 = float(reg.coef_)      # Retrieve w (slope) from reg and convert to a float\n",
    "b_2 = float(reg.intercept_) # Retrieve b (intercept) from reg and convert to a float\n",
    "\n",
    "predict(3.5, w_2, b_2)  # Prediction of the profit for 35,500 people\n",
    "predict(3.75, w_2, b_2) # Prediction of the profit for 37,500 people\n",
    "predict(7., w_2, b_2)   # Prediction of the profit for 70,000 people"
   ]
  },
  {
   "cell_type": "markdown",
   "metadata": {},
   "source": [
    "or use the built-in `predict` function of the model"
   ]
  },
  {
   "cell_type": "code",
   "execution_count": 489,
   "metadata": {},
   "outputs": [
    {
     "name": "stdout",
     "output_type": "stream",
     "text": [
      "For population = 35,000, we predict a profit of $2,798.37\n"
     ]
    }
   ],
   "source": [
    "input_pop  = 3.5                                                   # Input value for 35,000 people\n",
    "population = locale.format_string('%.0f', input_pop * 10000, True) # Calculating the population\n",
    "prediction = reg.predict(np.array([[input_pop]]))[0]*10000         # Calculating the prediction\n",
    "\n",
    "print(f\"For population = {population}, we predict a profit of ${locale.format_string('%.2f', prediction, True)}\")"
   ]
  },
  {
   "cell_type": "markdown",
   "metadata": {},
   "source": [
    "## Visualizing the results"
   ]
  },
  {
   "cell_type": "code",
   "execution_count": 490,
   "metadata": {},
   "outputs": [
    {
     "data": {
      "image/png": "[encoded data removed]",
      "text/plain": [
       "<Figure size 432x288 with 1 Axes>"
      ]
     },
     "metadata": {
      "needs_background": "light"
     },
     "output_type": "display_data"
    }
   ],
   "source": [
    "f = np.dot(w_2, x_train) + b_2      # Calculating f\n",
    "f = f.flatten()                     # Flatten f to be 1D\n",
    "df['skl_linear'] = pd.Series(f)     # Add the LR line to the DataFrame\n",
    "df['previous line'] = first_line    # Add the previous line to the DataFrame\n",
    "\n",
    "ax = df.plot(kind    = 'scatter',                                # Scatter plot\n",
    "             x       = 'Population of City in 10,000s',          # Specify the x-axis\n",
    "             y       = 'Profit in $10,000',                      # Specify the x-axis\n",
    "             color   = 'red',                                    # Color them red\n",
    "             marker  = 'x',                                      # Make them the shape of 'x'\n",
    "             title   = 'Profits vs. Population per city')        # Add title\n",
    "\n",
    "df.plot(ax=ax,x='Population of City in 10,000s',y='previous line', lw='.1', label='1st') # Add the first LR line\n",
    "df.plot(ax=ax,x='Population of City in 10,000s',y='skl_linear', lw='.1', label='2nd')    # Add the new LR line\n",
    "plt.show()                                                                               # Show results"
   ]
  },
  {
   "cell_type": "markdown",
   "metadata": {},
   "source": [
    "## Using Stochastic Gradient Descent\n",
    "\n",
    "By using the scikit learn's `SGDRegressor` model, the gradient of the loss function is estimated each sample at a time <br>\n",
    "and so the model is updated along the way with a decreasing strength schedule. <br> \n",
    "Also, it contains more hyperparameters than the `LinearRegression` model, so tuning the model becomes easier."
   ]
  },
  {
   "cell_type": "code",
   "execution_count": 491,
   "metadata": {},
   "outputs": [],
   "source": [
    "from sklearn.linear_model import SGDRegressor\n",
    "\n",
    "first_line  = df['previous line'].copy()     # Copies the first LR line\n",
    "second_line = df['skl_linear'].copy()        # Copies the previous LR line"
   ]
  },
  {
   "cell_type": "code",
   "execution_count": 418,
   "metadata": {},
   "outputs": [
    {
     "data": {
      "text/plain": [
       "0.6652594205892732"
      ]
     },
     "execution_count": 418,
     "metadata": {},
     "output_type": "execute_result"
    }
   ],
   "source": [
    "df = load_data_df()                                                # Loads the data\n",
    "\n",
    "# Spliting the data and convert them to numpy arrays\n",
    "x_train, y_train = df['Population of City in 10,000s'].to_numpy(), df['Profit in $10,000'].to_numpy()\n",
    "\n",
    "reg = SGDRegressor(alpha=0.01, max_iter=1500)                      # Initiating the SGDRegressor model\n",
    "reg.fit(x_train.reshape(-1, 1), y_train)                           # Fitting the line\n",
    "reg.score(x_train.reshape(-1, 1), y_train)                         # Calculating the accuracy"
   ]
  },
  {
   "cell_type": "markdown",
   "metadata": {},
   "source": [
    "The result has less accuracy from the previous model"
   ]
  },
  {
   "cell_type": "markdown",
   "metadata": {},
   "source": [
    "## Prediction"
   ]
  },
  {
   "cell_type": "code",
   "execution_count": 429,
   "metadata": {},
   "outputs": [
    {
     "name": "stdout",
     "output_type": "stream",
     "text": [
      "For population = 35,000, we predict a profit of $18,295.08\n"
     ]
    }
   ],
   "source": [
    "predict(3.5,reg.coef_,reg.intercept_) # Prediction of the profits for 35,000 people"
   ]
  },
  {
   "cell_type": "markdown",
   "metadata": {},
   "source": [
    "## Visualizing"
   ]
  },
  {
   "cell_type": "code",
   "execution_count": 420,
   "metadata": {},
   "outputs": [],
   "source": [
    "f = np.dot(w_2, x_train) + b_2      # Calculating f\n",
    "f = f.flatten()                     # Flatten f to be 1D\n",
    "df['skl_SGR'] = pd.Series(f)        # Add the new LR line to the DataFrame "
   ]
  },
  {
   "cell_type": "code",
   "execution_count": 421,
   "metadata": {},
   "outputs": [
    {
     "data": {
      "image/png": "[encoded data removed]",
      "text/plain": [
       "<Figure size 432x288 with 1 Axes>"
      ]
     },
     "metadata": {
      "needs_background": "light"
     },
     "output_type": "display_data"
    }
   ],
   "source": [
    "df['skl_linear'] = second_line   # Add the LR line to the DataFrame\n",
    "df['previous line'] = first_line    # Add the previous line to the DataFrame\n",
    "\n",
    "ax = df.plot(kind    = 'scatter',                                # Scatter plot\n",
    "             x       = 'Population of City in 10,000s',          # Specify the x-axis\n",
    "             y       = 'Profit in $10,000',                      # Specify the x-axis\n",
    "             color   = 'red',                                    # Color them red\n",
    "             marker  = 'x',                                      # Make them the shape of 'x'\n",
    "             title   = 'Profits vs. Population per city')        # Add title\n",
    "\n",
    "df.plot(ax=ax,x='Population of City in 10,000s',y='previous line', lw='.1', label='1st') # Add the first LR line\n",
    "df.plot(ax=ax,x='Population of City in 10,000s',y='skl_linear', lw='.1', label='2nd')    # Add the second LR line\n",
    "df.plot(ax=ax,x='Population of City in 10,000s',y='skl_SGR', lw='.1', label='3rd')       # Add the new LR line\n",
    "plt.show()                                                                               # Show results"
   ]
  },
  {
   "cell_type": "markdown",
   "metadata": {},
   "source": [
    "## Train - Test \n",
    "\n",
    "For having less unbiased result, the data must be split into two sets:\n",
    "- `x_train`,`y_train`, which contains the data used for training\n",
    "- `x_test`,`y_test`, which contains the data used for cross-validating the results\n",
    "\n",
    "For this task the `train_test_split` from `sklearn.model_selection` is used."
   ]
  },
  {
   "cell_type": "code",
   "execution_count": 422,
   "metadata": {},
   "outputs": [
    {
     "data": {
      "text/plain": [
       "0.7743366614991651"
      ]
     },
     "execution_count": 422,
     "metadata": {},
     "output_type": "execute_result"
    }
   ],
   "source": [
    "from sklearn.model_selection import train_test_split\n",
    "\n",
    "test_df = load_data_df()                                                   # Loads the data\n",
    "\n",
    "# Split the data and convert them to numpy arrays\n",
    "X, y = test_df['Population of City in 10,000s'].to_numpy(), test_df['Profit in $10,000'].to_numpy()\n",
    "\n",
    "# using the train test split function\n",
    "X_train, X_test, y_train, y_test = train_test_split(X,                     # Use the X (training examples)\n",
    "                                                    y ,                    # Use the y (labels)\n",
    "                                                    random_state=200,      # Give more concistent results\n",
    "                                                    test_size=0.25,        # Split into 75-25 %\n",
    "                                                    shuffle=True)          # Shuffle the data\n",
    "reg = SGDRegressor(alpha=0.01, max_iter=1500)                              # Use the SGDRegressor model\n",
    "reg.fit(X_train.reshape(-1, 1), y_train)                                   # Fitting the line\n",
    "reg.score(X_test.reshape(-1, 1), y_test)                                   # Calculating the accuracy"
   ]
  },
  {
   "cell_type": "markdown",
   "metadata": {},
   "source": [
    "This model has accuracy of 77%"
   ]
  },
  {
   "cell_type": "code",
   "execution_count": 423,
   "metadata": {},
   "outputs": [],
   "source": [
    "w_2 = float(reg.coef_)                  # Retrieve w (slope) from reg and convert to a float\n",
    "b_2 = float(reg.intercept_)             # Retrieve b (intercept) from reg and convert to a float\n",
    "f = np.dot(w_2, x_train) + b_2          # Calculate f\n",
    "f = f.flatten()                         # Flatten f to be 1D"
   ]
  },
  {
   "cell_type": "code",
   "execution_count": 428,
   "metadata": {},
   "outputs": [
    {
     "data": {
      "image/png": "[encoded data removed]",
      "text/plain": [
       "<Figure size 432x288 with 1 Axes>"
      ]
     },
     "metadata": {
      "needs_background": "light"
     },
     "output_type": "display_data"
    }
   ],
   "source": [
    "df['new_line']      = pd.Series(f)\n",
    "df['previous line'] = first_line          # Copies the first LR line\n",
    "df['skl_linear'] = second_reg_line     # Copies the previous LR line\n",
    "\n",
    "ax = df.plot(kind    = 'scatter',                                # Scatter plot\n",
    "             x       = 'Population of City in 10,000s',          # Specify the x-axis\n",
    "             y       = 'Profit in $10,000',                      # Specify the x-axis\n",
    "             color   = 'red',                                    # Color them red\n",
    "             marker  = 'x',                                      # Make them the shape of 'x'\n",
    "             title   = 'Profits vs. Population per city')        # Add title\n",
    "\n",
    "df.plot(ax=ax,x='Population of City in 10,000s',y='previous line', lw='.1', label='1st') # Add the first LR line\n",
    "df.plot(ax=ax,x='Population of City in 10,000s',y='skl_linear', lw='.1', label='2nd')    # Add the second LR line\n",
    "df.plot(ax=ax,x='Population of City in 10,000s',y='skl_SGR', lw='.1', label='3rd')       # Add the third LR line\n",
    "df.plot(ax=ax,x='Population of City in 10,000s',y='new_line', lw='.1', label='4th')      # Add the new LR line\n",
    "plt.show()                                                                               # Show results"
   ]
  },
  {
   "cell_type": "code",
   "execution_count": 425,
   "metadata": {},
   "outputs": [
    {
     "name": "stdout",
     "output_type": "stream",
     "text": [
      "For population = 35,000, we predict a profit of $18,295.08\n"
     ]
    }
   ],
   "source": [
    "input_pop  = 3.5 \n",
    "population = locale.format_string('%.0f', input_pop * 10000, True)\n",
    "prediction = reg.predict(np.array([[input_pop]]))[0]*10000\n",
    "\n",
    "print(f\"For population = {population}, we predict a profit of ${locale.format_string('%.2f', prediction, True)}\")"
   ]
  },
  {
   "cell_type": "code",
   "execution_count": 426,
   "metadata": {},
   "outputs": [
    {
     "name": "stdout",
     "output_type": "stream",
     "text": [
      "For population = 35,000, we predict a profit of $18,295.08\n"
     ]
    }
   ],
   "source": [
    "predict(3.5,w_2,b_2)"
   ]
  },
  {
   "cell_type": "markdown",
   "metadata": {},
   "source": [
    "So the 4th model with the highest accuracy shows that the profit for a city with 35,000 people will be in the amount of $18,295.08"
   ]
  }
 ],
 "metadata": {
  "kernelspec": {
   "display_name": "Python 3",
   "language": "python",
   "name": "python3"
  },
  "language_info": {
   "codemirror_mode": {
    "name": "ipython",
    "version": 3
   },
   "file_extension": ".py",
   "mimetype": "text/x-python",
   "name": "python",
   "nbconvert_exporter": "python",
   "pygments_lexer": "ipython3",
   "version": "3.8.5"
  },
  "vscode": {
   "interpreter": {
    "hash": "52634da84371cba311ea128a5ea7cdc41ff074b781779e754b270ff9f8153cee"
   }
  }
 },
 "nbformat": 4,
 "nbformat_minor": 4
}
